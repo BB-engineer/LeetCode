{
 "cells": [
  {
   "cell_type": "markdown",
   "metadata": {},
   "source": [
    "# 1. Two Sum"
   ]
  },
  {
   "cell_type": "markdown",
   "metadata": {},
   "source": [
    "https://bb-engineer.com/leetcode_100knock_day1/"
   ]
  },
  {
   "cell_type": "code",
   "execution_count": null,
   "metadata": {},
   "outputs": [],
   "source": [
    "import numpy as np\n",
    "def twoSum(nums, target):\n",
    "    sorted_index = np.argsort(nums)\n",
    "\n",
    "    l_index = 0\n",
    "    r_index = len(nums) - 1\n",
    "    ans = None\n",
    "    while ans != target:\n",
    "        ans = nums[sorted_index[l_index]] + nums[sorted_index[r_index]]\n",
    "        if ans > target:\n",
    "            r_index -= 1\n",
    "        elif ans < target:\n",
    "            l_index += 1\n",
    "    return [sorted_index[l_index],sorted_index[r_index]]"
   ]
  },
  {
   "cell_type": "markdown",
   "metadata": {},
   "source": [
    "# 2. Add Two Numbers"
   ]
  },
  {
   "cell_type": "markdown",
   "metadata": {},
   "source": [
    "https://bb-engineer.com/leetcode_100knock_day2/"
   ]
  },
  {
   "cell_type": "code",
   "execution_count": null,
   "metadata": {},
   "outputs": [],
   "source": [
    "from typing import Optional\n",
    "class ListNode:\n",
    "    def __init__(self, val=0, next=None):\n",
    "        self.val = val\n",
    "        self.next = next\n",
    "\n",
    "class Solution:\n",
    "    def addTwoNumbers(self, l1: Optional[ListNode], l2: Optional[ListNode]) -> Optional[ListNode]:\n",
    "        dummyHead = ListNode(0)\n",
    "        curr = dummyHead\n",
    "        cur_l1 = l1\n",
    "        cur_l2 = l2\n",
    "        carry = 0\n",
    "        while cur_l1 is not None or cur_l2 is not None or carry == 1:\n",
    "            if cur_l1 is None : l1_n = 0\n",
    "            else : l1_n = cur_l1.val\n",
    "            if cur_l2 is None : l2_n = 0\n",
    "            else : l2_n = cur_l2.val\n",
    "\n",
    "            n = l1_n + l2_n + carry\n",
    "            if n > 9:\n",
    "                n = n % 10\n",
    "                carry = 1\n",
    "            else:\n",
    "                carry = 0\n",
    "\n",
    "            newNode = ListNode(n)\n",
    "            curr.next = newNode\n",
    "            curr = newNode\n",
    "            \n",
    "            if cur_l1 is not None : cur_l1 = cur_l1.next\n",
    "            if cur_l2 is not None : cur_l2 = cur_l2.next\n",
    "        return (dummyHead.next)"
   ]
  },
  {
   "cell_type": "markdown",
   "metadata": {},
   "source": [
    "# 3. Longest Substring Without Repeating Characters"
   ]
  },
  {
   "cell_type": "markdown",
   "metadata": {},
   "source": [
    "https://bb-engineer.com/leetcode_100knock_day3/"
   ]
  },
  {
   "cell_type": "code",
   "execution_count": null,
   "metadata": {},
   "outputs": [],
   "source": [
    "# 効率を考慮しない場合\n",
    "# class Solution:\n",
    "#     def lengthOfLongestSubstring(self, s: str) -> int:     \n",
    "#         max_len = 0\n",
    "        \n",
    "#         for i in range(len(s)):\n",
    "#             tmp_length = 0\n",
    "#             dic = []\n",
    "#             for j in range(len(s) - i):\n",
    "#                 if s[j + i] not in dic:\n",
    "#                     dic.append(s[j + i])\n",
    "#                     tmp_length += 1\n",
    "#                 else:\n",
    "#                     break\n",
    "#             max_len = max(max_len, tmp_length)\n",
    "#         return max_len\n",
    "\n",
    "# 効率を重視する場合\n",
    "class Solution:\n",
    "    def lengthOfLongestSubstring(self, s: str) -> int:\n",
    "        dic = {}\n",
    "        left = -1\n",
    "        ans = 0\n",
    "        for i, l in enumerate(s):\n",
    "            if l in dic and dic[l] > left:\n",
    "                left = dic[l]\n",
    "            dic[l] = i \n",
    "            ans = max(ans, i - left)\n",
    "        return ans"
   ]
  },
  {
   "cell_type": "markdown",
   "metadata": {},
   "source": [
    "# 5. Longest Palindromic Substring"
   ]
  },
  {
   "cell_type": "markdown",
   "metadata": {},
   "source": [
    "https://bb-engineer.com/leetcode_100knock_day4/"
   ]
  },
  {
   "cell_type": "code",
   "execution_count": null,
   "metadata": {},
   "outputs": [],
   "source": [
    "class Solution:\n",
    "    def longestPalindrome(self, s: str) -> str:\n",
    "        maxPalindrome = s[0]\n",
    "\n",
    "        #奇数回文\n",
    "        for i in range(len(s)):\n",
    "            # 見つかっている回文の長さに応じて処理をスキップ\n",
    "            # 例：\"abcba\"の場合、4,5文字目を探索する必要はない\n",
    "            if i > len(s) - (len(maxPalindrome) - 1) // 2:\n",
    "                break\n",
    "            L = i - 1 # 中心文字の左側\n",
    "            R = i + 1 # 中心文字の右側\n",
    "            # 文字列の範囲を出ない限り\n",
    "            while L > -1 and R < len(s):\n",
    "                # 左と右の文字が同じであれば\n",
    "                if s[L] == s[R]: \n",
    "                    # これまで見つかった回文より長かったら\n",
    "                    if  R - L + 1 > len(maxPalindrome): \n",
    "                        maxPalindrome = s[L:R+1] # 最長の回文とする\n",
    "                else: break\n",
    "                L -= 1 # 左側更新\n",
    "                R += 1 # 右側更新\n",
    "\n",
    "        # 偶数回文\n",
    "        for i in range(len(s)):\n",
    "            if i > len(s) - len(maxPalindrome) // 2:\n",
    "                break\n",
    "            L = i #左側の中心文字\n",
    "            R = i + 1 #右側の中心文字\n",
    "            while L > -1 and R < len(s):\n",
    "                if s[L] == s[R]:\n",
    "                    if  R - L + 1 > len(maxPalindrome):\n",
    "                        maxPalindrome = s[L:R+1]\n",
    "                else: break\n",
    "                L -= 1\n",
    "                R += 1\n",
    "\n",
    "        return maxPalindrome"
   ]
  },
  {
   "cell_type": "markdown",
   "metadata": {},
   "source": [
    " # 9. Palindrome Number"
   ]
  },
  {
   "cell_type": "markdown",
   "metadata": {},
   "source": [
    "https://bb-engineer.com/leetcode_100knock_day5/"
   ]
  },
  {
   "cell_type": "code",
   "execution_count": null,
   "metadata": {},
   "outputs": [],
   "source": [
    "# 数値のまま扱う\n",
    "# import math\n",
    "# class Solution:\n",
    "#     def isPalindrome(self, x: int) -> bool:\n",
    "#         if x < 0 : return False # 負の数は除外\n",
    "#         if x < 10 : return True # 一桁の数値は無条件でTrue\n",
    "\n",
    "#         digit = int(math.log10(x)) + 1 # xの桁数\n",
    "\n",
    "#         # 桁数が偶数の場合桁数の半分、奇数の場合（桁数-1）の半分ループ\n",
    "#         for i in range(digit // 2):\n",
    "#             R = int(x % 10 ** (i + 1) / (10 ** i)) # 桁数の小さい側の値\n",
    "#             L = int(x / (10 ** (digit - 1 - i))) % 10 # 桁数の大きい側の値\n",
    "#             if R != L:\n",
    "#                 #RとLが異なればFalse\n",
    "#                 return False\n",
    "#         return True\n",
    "\n",
    "# 文字列に変換して扱う\n",
    "class Solution:\n",
    "    def isPalindrome(self, x: int) -> bool:\n",
    "        x_str = str(x)\n",
    "        if x_str == x_str[::-1]:\n",
    "            return True\n",
    "        return False"
   ]
  },
  {
   "cell_type": "markdown",
   "metadata": {},
   "source": [
    "# 11. Container With Most Water"
   ]
  },
  {
   "cell_type": "markdown",
   "metadata": {},
   "source": [
    "https://bb-engineer.com/leetcode_100knock_day6/"
   ]
  },
  {
   "cell_type": "code",
   "execution_count": null,
   "metadata": {},
   "outputs": [],
   "source": [
    "# 総当たり\n",
    "# class Solution:\n",
    "#     def maxArea(self, height: list[int]) -> int:\n",
    "#         max_area = 0\n",
    "#         for i in range(len(height)):\n",
    "#             for j in range(len(height) - i - 1):\n",
    "#                 tmp = ((j + i + 1) - i) * min(height[j + i + 1], height[i])\n",
    "#                 max_area = max(max_area, tmp)\n",
    "#         return max_area\n",
    "\n",
    "# 2 pointer\n",
    "class Solution:\n",
    "    def maxArea(self, height: list[int]) -> int:\n",
    "        max_area = 0 # 最大面積\n",
    "        L = 0 # 左側pointer\n",
    "        R = len(height) - 1 # 右側pointer\n",
    "        while L < R: # 左側pointerが右側より小さい限り\n",
    "            tmp_area = (R - L) * min(height[L], height[R])\n",
    "            max_area = max(max_area, tmp_area)\n",
    "            if height[L] < height[R]: # 左側の高さが右側より低ければ\n",
    "                L += 1 # 左側前進\n",
    "            else:\n",
    "                R -= 1 # 右側後退\n",
    "        return max_area"
   ]
  },
  {
   "cell_type": "markdown",
   "metadata": {},
   "source": [
    "# 13.Roman to Integer"
   ]
  },
  {
   "cell_type": "markdown",
   "metadata": {},
   "source": [
    "https://bb-engineer.com/leetcode_100knock_day7/"
   ]
  },
  {
   "cell_type": "code",
   "execution_count": null,
   "metadata": {},
   "outputs": [],
   "source": [
    "class Solution:\n",
    "    def romanToInt(self, s: str) -> int:\n",
    "        roman_dict = {\"I\":1, \"V\":5, \"X\":10, \"L\":50, \"C\":100, \"D\":500, \"M\":1000} # ローマ数字辞書\n",
    "        ans = 0 # 返り値初期化\n",
    "        left= -1 # 左隣の数値\n",
    "        for i in range(len(s)):\n",
    "            tmp_value = roman_dict[s[- i - 1]] # s に格納された文字の後ろから見ていき整数に変換\n",
    "            if tmp_value < left: # これまでに登場した最大のローマ数字より大きければ\n",
    "                tmp_value = -tmp_value # 符号反転\n",
    "            left = tmp_value \n",
    "            ans += tmp_value\n",
    "        return ans"
   ]
  },
  {
   "cell_type": "markdown",
   "metadata": {},
   "source": [
    "# 14. Longest Common Prefix"
   ]
  },
  {
   "attachments": {},
   "cell_type": "markdown",
   "metadata": {},
   "source": [
    "https://bb-engineer.com/leetcode_100knock_day8/"
   ]
  },
  {
   "cell_type": "code",
   "execution_count": null,
   "metadata": {},
   "outputs": [],
   "source": [
    "class Solution:\n",
    "    def longestCommonPrefix(self, strs: list[str]) -> str:\n",
    "        max_str_len = 201\n",
    "        for i in range(len(strs)):\n",
    "            max_str_len = min(max_str_len, len(strs[i]))\n",
    "        \n",
    "        max_cmn_pfx_len = 0\n",
    "        for i in range(max_str_len):\n",
    "            l = strs[0][i]\n",
    "            for j in range(len(strs) - 1):\n",
    "                if l != strs[j + 1][i]:\n",
    "                    return strs[0][0:max_cmn_pfx_len]\n",
    "                \n",
    "            max_cmn_pfx_len += 1\n",
    "        return strs[0][0:max_cmn_pfx_len]"
   ]
  },
  {
   "cell_type": "markdown",
   "metadata": {},
   "source": [
    "# 15. 3Sum"
   ]
  },
  {
   "attachments": {},
   "cell_type": "markdown",
   "metadata": {},
   "source": [
    "https://bb-engineer.com/leetcode_100knock_day9/"
   ]
  },
  {
   "attachments": {},
   "cell_type": "markdown",
   "metadata": {},
   "source": [
    "総当たり"
   ]
  },
  {
   "cell_type": "code",
   "execution_count": null,
   "metadata": {},
   "outputs": [],
   "source": [
    "# 総当たり\n",
    "class Solution:\n",
    "    def threeSum(self, nums: list[int]) -> list[list[int]]:\n",
    "        ans = []\n",
    "        nums_len = len(nums)\n",
    "        for i in range(nums_len):\n",
    "            for j in range(nums_len - i - 1):\n",
    "                for l in range(nums_len - i - j - 2):\n",
    "                    if nums[i] + nums[j + i + 1] + nums[l + i + j + 2] == 0:\n",
    "                        ans.append([nums[i], nums[j + i + 1], nums[l + i + j + 2]])\n",
    "        rm = []\n",
    "        for i in range(len(ans)):\n",
    "            for j in range(len(ans) - i - 1):\n",
    "                if sorted(ans[i]) == sorted(ans[j + i + 1]):\n",
    "                    rm.append(ans[j + i + 1])\n",
    "                    break\n",
    "        for i in range(len(rm)):\n",
    "            ans.remove(rm[i])\n",
    "\n",
    "        return ans\n"
   ]
  },
  {
   "attachments": {},
   "cell_type": "markdown",
   "metadata": {},
   "source": [
    "場合分け"
   ]
  },
  {
   "cell_type": "code",
   "execution_count": null,
   "metadata": {},
   "outputs": [],
   "source": [
    "class Solution:\n",
    "    def threeSum(self, nums: list[int]) -> list[list[int]]:\n",
    "        nums_sorted = sorted(nums)\n",
    "        nums_dict = {}\n",
    "        nums_unique = []\n",
    "\n",
    "        \n",
    "        for i in nums_sorted:\n",
    "            if i not in nums_dict:\n",
    "                nums_dict[i] = 1\n",
    "                nums_unique.append(i)\n",
    "            else:\n",
    "                nums_dict[i] += 1\n",
    "        \n",
    "        ans = []\n",
    "        if 0 in nums_dict:\n",
    "            if nums_dict[0] > 2:\n",
    "                ans.append([0,0,0])\n",
    "\n",
    "        for x in nums_unique:\n",
    "            if x % 2 != 0 or x == 0:\n",
    "                continue\n",
    "            y = -x // 2\n",
    "            if y in nums_dict:\n",
    "                if nums_dict[y] > 1:\n",
    "                    ans.append([x,y,y])\n",
    "\n",
    "        for i, x in enumerate(nums_unique):\n",
    "            if x >= 0 or i > len(nums_unique) - 2:\n",
    "                break\n",
    "\n",
    "            L = R = 0\n",
    "            while(i + L + 1 < len(nums_unique) - R - 1):\n",
    "                y = nums_unique[i + L + 1]\n",
    "                z = nums_unique[len(nums_unique) - R - 1]\n",
    "                if z < 0 : break\n",
    "                if x + y + z == 0 : ans.append([x, y, z])\n",
    "                if x + y + z <= 0 : L += 1\n",
    "                if x + y + z >= 0 : R += 1\n",
    "        return ans"
   ]
  },
  {
   "cell_type": "markdown",
   "metadata": {},
   "source": [
    "# 16. 3Sum Closest"
   ]
  },
  {
   "attachments": {},
   "cell_type": "markdown",
   "metadata": {},
   "source": [
    "https://bb-engineer.com/leetcode_100knock_day10/"
   ]
  },
  {
   "cell_type": "code",
   "execution_count": null,
   "metadata": {},
   "outputs": [],
   "source": [
    "class Solution:\n",
    "    def threeSumClosest(self, nums: list[int], target: int) -> int:\n",
    "        nums_sorted = sorted(nums) # numsをソート\n",
    "        \n",
    "        ans = min_dif = 1e10\n",
    "        for i, x in enumerate(nums_sorted):\n",
    "            if i > len(nums_sorted) - 2:\n",
    "                break\n",
    "\n",
    "            L = R = 0\n",
    "            while(i + L + 1 < len(nums_sorted) - R - 1):\n",
    "                y = nums_sorted[i + L + 1]\n",
    "                z = nums_sorted[len(nums_sorted) - R - 1]\n",
    "  \n",
    "                dif = x + y + z - target\n",
    "                if abs(dif) < min_dif:\n",
    "                    ans = x + y + z\n",
    "                    min_dif = abs(dif)\n",
    "                    \n",
    "                if dif < 0 : L += 1\n",
    "                elif dif > 0 : R += 1 \n",
    "                else : return ans\n",
    "        return ans"
   ]
  }
 ],
 "metadata": {
  "kernelspec": {
   "display_name": "base",
   "language": "python",
   "name": "python3"
  },
  "language_info": {
   "codemirror_mode": {
    "name": "ipython",
    "version": 3
   },
   "file_extension": ".py",
   "mimetype": "text/x-python",
   "name": "python",
   "nbconvert_exporter": "python",
   "pygments_lexer": "ipython3",
   "version": "3.9.7 (default, Sep 16 2021, 16:59:28) [MSC v.1916 64 bit (AMD64)]"
  },
  "orig_nbformat": 4,
  "vscode": {
   "interpreter": {
    "hash": "ae47ba6212e84d8c1bc7a7a3dddd0022dfcbe700da49bf62ecf3a9fe5774f7c4"
   }
  }
 },
 "nbformat": 4,
 "nbformat_minor": 2
}
