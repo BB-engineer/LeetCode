{
 "cells": [
  {
   "cell_type": "markdown",
   "metadata": {},
   "source": [
    "# 1. Two Sum"
   ]
  },
  {
   "cell_type": "markdown",
   "metadata": {},
   "source": [
    "https://bb-engineer.com/leetcode_100knock_day1/"
   ]
  },
  {
   "cell_type": "code",
   "execution_count": null,
   "metadata": {},
   "outputs": [],
   "source": [
    "import numpy as np\n",
    "def twoSum(nums, target):\n",
    "    sorted_index = np.argsort(nums)\n",
    "\n",
    "    l_index = 0\n",
    "    r_index = len(nums) - 1\n",
    "    ans = None\n",
    "    while ans != target:\n",
    "        ans = nums[sorted_index[l_index]] + nums[sorted_index[r_index]]\n",
    "        if ans > target:\n",
    "            r_index -= 1\n",
    "        elif ans < target:\n",
    "            l_index += 1\n",
    "    return [sorted_index[l_index],sorted_index[r_index]]"
   ]
  },
  {
   "cell_type": "markdown",
   "metadata": {},
   "source": [
    "# 2. Add Two Numbers"
   ]
  },
  {
   "cell_type": "markdown",
   "metadata": {},
   "source": [
    "https://bb-engineer.com/leetcode_100knock_day2/"
   ]
  },
  {
   "cell_type": "code",
   "execution_count": null,
   "metadata": {},
   "outputs": [],
   "source": [
    "from typing import Optional\n",
    "class ListNode:\n",
    "    def __init__(self, val=0, next=None):\n",
    "        self.val = val\n",
    "        self.next = next\n",
    "\n",
    "class Solution:\n",
    "    def addTwoNumbers(self, l1: Optional[ListNode], l2: Optional[ListNode]) -> Optional[ListNode]:\n",
    "        dummyHead = ListNode(0)\n",
    "        curr = dummyHead\n",
    "        cur_l1 = l1\n",
    "        cur_l2 = l2\n",
    "        carry = 0\n",
    "        while cur_l1 is not None or cur_l2 is not None or carry == 1:\n",
    "            if cur_l1 is None : l1_n = 0\n",
    "            else : l1_n = cur_l1.val\n",
    "            if cur_l2 is None : l2_n = 0\n",
    "            else : l2_n = cur_l2.val\n",
    "\n",
    "            n = l1_n + l2_n + carry\n",
    "            if n > 9:\n",
    "                n = n % 10\n",
    "                carry = 1\n",
    "            else:\n",
    "                carry = 0\n",
    "\n",
    "            newNode = ListNode(n)\n",
    "            curr.next = newNode\n",
    "            curr = newNode\n",
    "            \n",
    "            if cur_l1 is not None : cur_l1 = cur_l1.next\n",
    "            if cur_l2 is not None : cur_l2 = cur_l2.next\n",
    "        return (dummyHead.next)"
   ]
  },
  {
   "cell_type": "markdown",
   "metadata": {},
   "source": [
    "# 3. Longest Substring Without Repeating Characters"
   ]
  },
  {
   "cell_type": "markdown",
   "metadata": {},
   "source": [
    "https://bb-engineer.com/leetcode_100knock_day3/"
   ]
  },
  {
   "cell_type": "code",
   "execution_count": null,
   "metadata": {},
   "outputs": [],
   "source": [
    "# 効率を考慮しない場合\n",
    "# class Solution:\n",
    "#     def lengthOfLongestSubstring(self, s: str) -> int:     \n",
    "#         max_len = 0\n",
    "        \n",
    "#         for i in range(len(s)):\n",
    "#             tmp_length = 0\n",
    "#             dic = []\n",
    "#             for j in range(len(s) - i):\n",
    "#                 if s[j + i] not in dic:\n",
    "#                     dic.append(s[j + i])\n",
    "#                     tmp_length += 1\n",
    "#                 else:\n",
    "#                     break\n",
    "#             max_len = max(max_len, tmp_length)\n",
    "#         return max_len\n",
    "\n",
    "# 効率を重視する場合\n",
    "class Solution:\n",
    "    def lengthOfLongestSubstring(self, s: str) -> int:\n",
    "        dic = {}\n",
    "        left = -1\n",
    "        ans = 0\n",
    "        for i, l in enumerate(s):\n",
    "            if l in dic and dic[l] > left:\n",
    "                left = dic[l]\n",
    "            dic[l] = i \n",
    "            ans = max(ans, i - left)\n",
    "        return ans"
   ]
  },
  {
   "cell_type": "markdown",
   "metadata": {},
   "source": [
    "# 5. Longest Palindromic Substring"
   ]
  },
  {
   "cell_type": "markdown",
   "metadata": {},
   "source": [
    "https://bb-engineer.com/leetcode_100knock_day4/"
   ]
  },
  {
   "cell_type": "code",
   "execution_count": null,
   "metadata": {},
   "outputs": [],
   "source": [
    "class Solution:\n",
    "    def longestPalindrome(self, s: str) -> str:\n",
    "        maxPalindrome = s[0]\n",
    "\n",
    "        #奇数回文\n",
    "        for i in range(len(s)):\n",
    "            # 見つかっている回文の長さに応じて処理をスキップ\n",
    "            # 例：\"abcba\"の場合、4,5文字目を探索する必要はない\n",
    "            if i > len(s) - (len(maxPalindrome) - 1) // 2:\n",
    "                break\n",
    "            L = i - 1 # 中心文字の左側\n",
    "            R = i + 1 # 中心文字の右側\n",
    "            # 文字列の範囲を出ない限り\n",
    "            while L > -1 and R < len(s):\n",
    "                # 左と右の文字が同じであれば\n",
    "                if s[L] == s[R]: \n",
    "                    # これまで見つかった回文より長かったら\n",
    "                    if  R - L + 1 > len(maxPalindrome): \n",
    "                        maxPalindrome = s[L:R+1] # 最長の回文とする\n",
    "                else: break\n",
    "                L -= 1 # 左側更新\n",
    "                R += 1 # 右側更新\n",
    "\n",
    "        # 偶数回文\n",
    "        for i in range(len(s)):\n",
    "            if i > len(s) - len(maxPalindrome) // 2:\n",
    "                break\n",
    "            L = i #左側の中心文字\n",
    "            R = i + 1 #右側の中心文字\n",
    "            while L > -1 and R < len(s):\n",
    "                if s[L] == s[R]:\n",
    "                    if  R - L + 1 > len(maxPalindrome):\n",
    "                        maxPalindrome = s[L:R+1]\n",
    "                else: break\n",
    "                L -= 1\n",
    "                R += 1\n",
    "\n",
    "        return maxPalindrome"
   ]
  },
  {
   "cell_type": "markdown",
   "metadata": {},
   "source": [
    " # 9. Palindrome Number"
   ]
  },
  {
   "cell_type": "markdown",
   "metadata": {},
   "source": [
    "https://bb-engineer.com/leetcode_100knock_day5/"
   ]
  },
  {
   "cell_type": "code",
   "execution_count": null,
   "metadata": {},
   "outputs": [],
   "source": [
    "# 数値のまま扱う\n",
    "import math\n",
    "class Solution:\n",
    "    def isPalindrome(self, x: int) -> bool:\n",
    "        if x < 0 : return False\n",
    "        if x < 10 : return True\n",
    "\n",
    "        digit = int(math.log10(x)) + 1\n",
    "\n",
    "        i = 0\n",
    "        for i in range(int(digit / 2)):\n",
    "            R = int(x % 10 ** (i + 1) / (10 ** i))\n",
    "            L = int(x / (10 ** (digit - 1 - i))) % 10\n",
    "            print(\"a\", R,L)\n",
    "            if R != L:\n",
    "                return False\n",
    "            print(\"b\", R,L)\n",
    "        return True\n",
    "\n",
    "# 文字列に変換して扱う\n",
    "class Solution:\n",
    "    def isPalindrome(self, x: int) -> bool:\n",
    "        x_str = str(x)\n",
    "        if x_str == x_str[::-1]:\n",
    "            return True\n",
    "        return False\n",
    "\n",
    "sol = Solution()\n",
    "sol.isPalindrome(10021)"
   ]
  },
  {
   "cell_type": "markdown",
   "metadata": {},
   "source": [
    "# 11. Container With Most Water"
   ]
  },
  {
   "cell_type": "code",
   "execution_count": null,
   "metadata": {},
   "outputs": [],
   "source": [
    "class Solution:\n",
    "    def maxArea(self, height: list[int]) -> int:\n",
    "        max_area = 0\n",
    "        L = 0\n",
    "        R = len(height) - 1\n",
    "        while L < R:\n",
    "            max_area = max(max_area, (R - L) * min(height[L], height[R]))\n",
    "            if height[L] < height[R]:\n",
    "                L += 1\n",
    "            else:\n",
    "                R -= 1\n",
    "        return max_area"
   ]
  },
  {
   "cell_type": "markdown",
   "metadata": {},
   "source": [
    "# 13.Roman to Integer"
   ]
  },
  {
   "cell_type": "code",
   "execution_count": null,
   "metadata": {},
   "outputs": [],
   "source": [
    "class Solution:\n",
    "    def romanToInt(self, s: str) -> int:\n",
    "        c = {\"I\":1, \"V\":5, \"X\":10, \"L\":50, \"C\":100, \"D\":500, \"M\":1000}\n",
    "        roman_len = len(s)\n",
    "        value = 0\n",
    "        cur_max = -1\n",
    "        for i in range(roman_len):\n",
    "            tmp_value = 0\n",
    "            tmp_value = c[s[- i - 1]]\n",
    "            if tmp_value >= cur_max:\n",
    "                cur_max = tmp_value\n",
    "            else:\n",
    "                tmp_value = -tmp_value\n",
    "            \n",
    "            value += tmp_value\n",
    "            print(s[- i - 1],c[s[- i - 1]],cur_max,tmp_value,value)\n",
    "\n",
    "        return value"
   ]
  }
 ],
 "metadata": {
  "kernelspec": {
   "display_name": "base",
   "language": "python",
   "name": "python3"
  },
  "language_info": {
   "codemirror_mode": {
    "name": "ipython",
    "version": 3
   },
   "file_extension": ".py",
   "mimetype": "text/x-python",
   "name": "python",
   "nbconvert_exporter": "python",
   "pygments_lexer": "ipython3",
   "version": "3.9.7"
  },
  "orig_nbformat": 4,
  "vscode": {
   "interpreter": {
    "hash": "ae47ba6212e84d8c1bc7a7a3dddd0022dfcbe700da49bf62ecf3a9fe5774f7c4"
   }
  }
 },
 "nbformat": 4,
 "nbformat_minor": 2
}
