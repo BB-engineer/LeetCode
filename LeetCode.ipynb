{
 "cells": [
  {
   "cell_type": "markdown",
   "metadata": {},
   "source": [
    "# 1. Two Sum"
   ]
  },
  {
   "cell_type": "markdown",
   "metadata": {},
   "source": [
    "https://bb-engineer.com/leetcode_100knock_day1/"
   ]
  },
  {
   "cell_type": "code",
   "execution_count": null,
   "metadata": {},
   "outputs": [],
   "source": [
    "import numpy as np\n",
    "def twoSum(nums, target):\n",
    "    sorted_index = np.argsort(nums)\n",
    "\n",
    "    l_index = 0\n",
    "    r_index = len(nums) - 1\n",
    "    ans = None\n",
    "    while ans != target:\n",
    "        ans = nums[sorted_index[l_index]] + nums[sorted_index[r_index]]\n",
    "        if ans > target:\n",
    "            r_index -= 1\n",
    "        elif ans < target:\n",
    "            l_index += 1\n",
    "    return [sorted_index[l_index],sorted_index[r_index]]"
   ]
  },
  {
   "cell_type": "markdown",
   "metadata": {},
   "source": [
    "# 2. Add Two Numbers"
   ]
  },
  {
   "cell_type": "markdown",
   "metadata": {},
   "source": [
    "https://bb-engineer.com/leetcode_100knock_day2/"
   ]
  },
  {
   "cell_type": "code",
   "execution_count": null,
   "metadata": {},
   "outputs": [],
   "source": [
    "from typing import Optional\n",
    "class ListNode:\n",
    "    def __init__(self, val=0, next=None):\n",
    "        self.val = val\n",
    "        self.next = next\n",
    "\n",
    "class Solution:\n",
    "    def addTwoNumbers(self, l1: Optional[ListNode], l2: Optional[ListNode]) -> Optional[ListNode]:\n",
    "        dummyHead = ListNode(0)\n",
    "        curr = dummyHead\n",
    "        cur_l1 = l1\n",
    "        cur_l2 = l2\n",
    "        carry = 0\n",
    "        while cur_l1 is not None or cur_l2 is not None or carry == 1:\n",
    "            if cur_l1 is None : l1_n = 0\n",
    "            else : l1_n = cur_l1.val\n",
    "            if cur_l2 is None : l2_n = 0\n",
    "            else : l2_n = cur_l2.val\n",
    "\n",
    "            n = l1_n + l2_n + carry\n",
    "            if n > 9:\n",
    "                n = n % 10\n",
    "                carry = 1\n",
    "            else:\n",
    "                carry = 0\n",
    "\n",
    "            newNode = ListNode(n)\n",
    "            curr.next = newNode\n",
    "            curr = newNode\n",
    "            \n",
    "            if cur_l1 is not None : cur_l1 = cur_l1.next\n",
    "            if cur_l2 is not None : cur_l2 = cur_l2.next\n",
    "        return (dummyHead.next)"
   ]
  },
  {
   "cell_type": "markdown",
   "metadata": {},
   "source": [
    "# 3. Longest Substring Without Repeating Characters"
   ]
  },
  {
   "cell_type": "markdown",
   "metadata": {},
   "source": [
    "https://bb-engineer.com/leetcode_100knock_day3/"
   ]
  },
  {
   "cell_type": "code",
   "execution_count": null,
   "metadata": {},
   "outputs": [],
   "source": [
    "# 効率を考慮しない場合\n",
    "# class Solution:\n",
    "#     def lengthOfLongestSubstring(self, s: str) -> int:     \n",
    "#         max_len = 0\n",
    "        \n",
    "#         for i in range(len(s)):\n",
    "#             tmp_length = 0\n",
    "#             dic = []\n",
    "#             for j in range(len(s) - i):\n",
    "#                 if s[j + i] not in dic:\n",
    "#                     dic.append(s[j + i])\n",
    "#                     tmp_length += 1\n",
    "#                 else:\n",
    "#                     break\n",
    "#             max_len = max(max_len, tmp_length)\n",
    "#         return max_len\n",
    "\n",
    "# 効率を重視する場合\n",
    "class Solution:\n",
    "    def lengthOfLongestSubstring(self, s: str) -> int:\n",
    "        dic = {}\n",
    "        left = -1\n",
    "        ans = 0\n",
    "        for i, l in enumerate(s):\n",
    "            if l in dic and dic[l] > left:\n",
    "                left = dic[l]\n",
    "            dic[l] = i \n",
    "            ans = max(ans, i - left)\n",
    "        return ans"
   ]
  }
 ],
 "metadata": {
  "kernelspec": {
   "display_name": "base",
   "language": "python",
   "name": "python3"
  },
  "language_info": {
   "codemirror_mode": {
    "name": "ipython",
    "version": 3
   },
   "file_extension": ".py",
   "mimetype": "text/x-python",
   "name": "python",
   "nbconvert_exporter": "python",
   "pygments_lexer": "ipython3",
   "version": "3.9.7"
  },
  "orig_nbformat": 4,
  "vscode": {
   "interpreter": {
    "hash": "ae47ba6212e84d8c1bc7a7a3dddd0022dfcbe700da49bf62ecf3a9fe5774f7c4"
   }
  }
 },
 "nbformat": 4,
 "nbformat_minor": 2
}
