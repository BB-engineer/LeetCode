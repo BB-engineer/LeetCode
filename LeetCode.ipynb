{
 "cells": [
  {
   "cell_type": "markdown",
   "metadata": {},
   "source": [
    "# 1"
   ]
  },
  {
   "cell_type": "code",
   "execution_count": 34,
   "metadata": {},
   "outputs": [
    {
     "data": {
      "text/plain": [
       "[5, 3]"
      ]
     },
     "execution_count": 34,
     "metadata": {},
     "output_type": "execute_result"
    }
   ],
   "source": [
    "import numpy as np\n",
    "def twoSum(nums, target):\n",
    "    sorted_index = np.argsort(nums)\n",
    "\n",
    "    l_index = 0\n",
    "    r_index = len(nums) - 1\n",
    "    ans = None\n",
    "    while ans != target:\n",
    "        ans = nums[sorted_index[l_index]] + nums[sorted_index[r_index]]\n",
    "        if ans > target:\n",
    "            r_index -= 1\n",
    "        elif ans < target:\n",
    "            l_index += 1\n",
    "    return [sorted_index[l_index],sorted_index[r_index]]\n",
    "        \n",
    "\n",
    "twoSum([18,22,-2,6,-4,3,8,4],9)  "
   ]
  },
  {
   "cell_type": "markdown",
   "metadata": {},
   "source": [
    "# 2"
   ]
  },
  {
   "cell_type": "code",
   "execution_count": null,
   "metadata": {},
   "outputs": [],
   "source": []
  }
 ],
 "metadata": {
  "kernelspec": {
   "display_name": "base",
   "language": "python",
   "name": "python3"
  },
  "language_info": {
   "codemirror_mode": {
    "name": "ipython",
    "version": 3
   },
   "file_extension": ".py",
   "mimetype": "text/x-python",
   "name": "python",
   "nbconvert_exporter": "python",
   "pygments_lexer": "ipython3",
   "version": "3.9.7"
  },
  "orig_nbformat": 4,
  "vscode": {
   "interpreter": {
    "hash": "ae47ba6212e84d8c1bc7a7a3dddd0022dfcbe700da49bf62ecf3a9fe5774f7c4"
   }
  }
 },
 "nbformat": 4,
 "nbformat_minor": 2
}
