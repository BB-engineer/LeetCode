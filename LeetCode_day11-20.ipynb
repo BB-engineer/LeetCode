{
 "cells": [
  {
   "attachments": {},
   "cell_type": "markdown",
   "metadata": {},
   "source": [
    "# 20. Valid Parentheses"
   ]
  },
  {
   "attachments": {},
   "cell_type": "markdown",
   "metadata": {},
   "source": [
    "https://bb-engineer.com/leetcode_100knock_day11/"
   ]
  },
  {
   "cell_type": "code",
   "execution_count": null,
   "metadata": {},
   "outputs": [],
   "source": [
    "class Solution:\n",
    "    def isValid(self, s: str) -> bool:\n",
    "        parentheses_dict = {')':'(', '}':'{', ']':'['}\n",
    "\n",
    "        stack = []\n",
    "        for i in range(len(s)):\n",
    "            if s[i] not in parentheses_dict:\n",
    "                stack.append(s[i])\n",
    "            else:\n",
    "                if len(stack) == 0:\n",
    "                    return False\n",
    "                if parentheses_dict[s[i]] != stack[-1]:\n",
    "                    return False\n",
    "                stack.pop(-1)\n",
    "        if len(stack) > 0:\n",
    "            return False\n",
    "        return True"
   ]
  },
  {
   "attachments": {},
   "cell_type": "markdown",
   "metadata": {},
   "source": [
    "# 22. Generate Parentheses"
   ]
  },
  {
   "attachments": {},
   "cell_type": "markdown",
   "metadata": {},
   "source": [
    "https://bb-engineer.com/leetcode_100knock_day12/"
   ]
  },
  {
   "cell_type": "code",
   "execution_count": null,
   "metadata": {},
   "outputs": [],
   "source": [
    "class Solution:\n",
    "    def generateParenthesis(self, n):\n",
    "        ans = []\n",
    "        def generater(cand, l, r, c):\n",
    "            if l == 0:\n",
    "                if r == 0:\n",
    "                    ans.append(cand)\n",
    "                else:\n",
    "                    generater(cand + \")\", l, r - 1, c - 1)\n",
    "            elif c == 0:\n",
    "                generater(cand + \"(\", l - 1, r, c + 1)\n",
    "            else:\n",
    "                generater(cand + \"(\", l - 1, r, c + 1)\n",
    "                generater(cand + \")\", l, r - 1, c - 1) \n",
    "            return ans\n",
    "        return generater(\"\", n, n, 0)"
   ]
  },
  {
   "attachments": {},
   "cell_type": "markdown",
   "metadata": {},
   "source": [
    "# 28. Find the Index of the First Occurrence in a String"
   ]
  },
  {
   "attachments": {},
   "cell_type": "markdown",
   "metadata": {},
   "source": [
    "https://bb-engineer.com/leetcode_100knock_day13/"
   ]
  },
  {
   "cell_type": "code",
   "execution_count": null,
   "metadata": {},
   "outputs": [],
   "source": [
    "# class Solution:\n",
    "#     def strStr(self, haystack: str, needle: str) -> int:\n",
    "#         return haystack.find(needle)\n",
    "\n",
    "class Solution:\n",
    "    def strStr(self, haystack: str, needle: str) -> int:\n",
    "        for i in range(len(haystack) - len(needle) + 1):\n",
    "            if haystack[i : i + len(needle)] == needle:\n",
    "                return i\n",
    "        return -1"
   ]
  },
  {
   "attachments": {},
   "cell_type": "markdown",
   "metadata": {},
   "source": [
    "# 29. Divide Two Integers"
   ]
  },
  {
   "attachments": {},
   "cell_type": "markdown",
   "metadata": {},
   "source": [
    "https://bb-engineer.com/leetcode_100knock_day14/"
   ]
  },
  {
   "cell_type": "code",
   "execution_count": null,
   "metadata": {},
   "outputs": [],
   "source": [
    "# from decimal import Decimal, ROUND_DOWN\n",
    "# class Solution:\n",
    "#     def divide(self, dividend: int, divisor: int) -> int:\n",
    "#         return int(Decimal(dividend / divisor).quantize(Decimal('1'), rounding=ROUND_DOWN))\n",
    "\n",
    "import numpy as np\n",
    "class Solution:\n",
    "    def divide(self, dividend: int, divisor: int) -> int:\n",
    "        sign = np.sign(np.sign(dividend) * np.sign(divisor))\n",
    "        ans = abs(dividend) // abs(divisor)\n",
    "        if sign < 0:\n",
    "            ans = -ans\n",
    "        return ans"
   ]
  },
  {
   "attachments": {},
   "cell_type": "markdown",
   "metadata": {},
   "source": [
    "# 31. Next Permutation"
   ]
  },
  {
   "attachments": {},
   "cell_type": "markdown",
   "metadata": {},
   "source": [
    "https://bb-engineer.com/leetcode_100knock_day15/"
   ]
  },
  {
   "cell_type": "code",
   "execution_count": null,
   "metadata": {},
   "outputs": [],
   "source": [
    "class Solution(object):                \n",
    "    def nextPermutation(self, nums):    \n",
    "        for i in range(len(nums) - 1):\n",
    "            for j in range(i + 1):\n",
    "                if nums[- j - 1] > nums[- i - 2]:\n",
    "                    tmp = nums[- i - 2]\n",
    "                    nums[- i - 2] = nums[- j - 1]\n",
    "                    nums[- j - 1] = tmp\n",
    "                    nums[:] = nums[:len(nums) - i - 1] + sorted(nums[len(nums) - i - 1:])\n",
    "                    return\n",
    "        nums.sort()\n",
    "        return"
   ]
  },
  {
   "attachments": {},
   "cell_type": "markdown",
   "metadata": {},
   "source": [
    "# 32. Longest Valid Parentheses"
   ]
  },
  {
   "attachments": {},
   "cell_type": "markdown",
   "metadata": {},
   "source": [
    "https://bb-engineer.com/leetcode_100knock_day16/"
   ]
  },
  {
   "cell_type": "code",
   "execution_count": null,
   "metadata": {},
   "outputs": [],
   "source": [
    "class Solution:\n",
    "    def longestValidParentheses(self, s: str) -> int:\n",
    "        valid = []\n",
    "        stack = []\n",
    "        for i, l in enumerate(s):\n",
    "            if l == \"(\":\n",
    "                stack.append(i)\n",
    "            else:\n",
    "                if len(stack) > 0:\n",
    "                    valid.append(stack[-1])\n",
    "                    stack.pop(-1)\n",
    "                    valid.append(i)\n",
    "        valid.sort()\n",
    "\n",
    "        max_len = tmp_len = 0\n",
    "        for i in range(len(valid) - 1):\n",
    "            if valid[i] + 1 == valid[i + 1]:\n",
    "                if tmp_len == 0:\n",
    "                    tmp_len += 1\n",
    "                tmp_len += 1\n",
    "            else:\n",
    "                max_len = max(max_len, tmp_len)\n",
    "                tmp_len = 0\n",
    "        max_len = max(max_len, tmp_len)\n",
    "        return max_len"
   ]
  },
  {
   "attachments": {},
   "cell_type": "markdown",
   "metadata": {},
   "source": [
    "# 39. Combination Sum"
   ]
  },
  {
   "attachments": {},
   "cell_type": "markdown",
   "metadata": {},
   "source": [
    "https://bb-engineer.com/leetcode_100knock_day17/"
   ]
  },
  {
   "cell_type": "code",
   "execution_count": null,
   "metadata": {},
   "outputs": [],
   "source": [
    "class Solution:\n",
    "    def combinationSum(self, candidates: list[int], target: int) -> list[list[int]]:\n",
    "        combinations = []\n",
    "        \n",
    "        def comb(cand, target, ans):\n",
    "            for i in cand:\n",
    "                cur_ans = ans.copy()\n",
    "                cur_ans.append(i)\n",
    "                cur_target = target - i\n",
    "                cur_cand = [j for j in cand if j <= cur_target and j >= i]\n",
    "\n",
    "                if cur_target == 0:\n",
    "                    combinations.append(cur_ans)\n",
    "                    continue\n",
    "\n",
    "                elif len(cur_cand) < 1:\n",
    "                    continue\n",
    "\n",
    "                comb(cur_cand, cur_target, cur_ans)\n",
    "            return combinations\n",
    "        \n",
    "        cand = [i for i in candidates if i <= target]\n",
    "        cand = sorted(candidates)\n",
    "        return comb(cand, target, [])"
   ]
  },
  {
   "attachments": {},
   "cell_type": "markdown",
   "metadata": {},
   "source": [
    "# 40. Combination Sum II"
   ]
  },
  {
   "attachments": {},
   "cell_type": "markdown",
   "metadata": {},
   "source": [
    "https://bb-engineer.com/leetcode_100knock_day18/"
   ]
  },
  {
   "cell_type": "code",
   "execution_count": null,
   "metadata": {},
   "outputs": [],
   "source": [
    "class Solution:\n",
    "    def combinationSum2(self, candidates: list[int], target: int) -> list[list[int]]:\n",
    "        combinations = []\n",
    "        \n",
    "        def comb(cand, target, ans):\n",
    "            pre_cand = -1\n",
    "            for i in range(len(cand)):\n",
    "                if cand[i] == pre_cand:\n",
    "                    continue\n",
    "                pre_cand = cand[i]\n",
    "                cur_ans = ans.copy()\n",
    "                cur_ans.append(cand[i])\n",
    "                cur_target = target - cand[i]\n",
    "                cur_cand = [cand[j] for j in range(len(cand)) if cand[j] <= cur_target and j > i]\n",
    "\n",
    "                if cur_target == 0:\n",
    "                    combinations.append(cur_ans)\n",
    "                    continue\n",
    "\n",
    "                elif len(cur_cand) < 1:\n",
    "                    continue\n",
    "\n",
    "                comb(cur_cand, cur_target, cur_ans)\n",
    "            return combinations\n",
    "        \n",
    "        cand = [i for i in candidates if i <= target]\n",
    "        cand = sorted(candidates)\n",
    "        return comb(cand, target, [])"
   ]
  },
  {
   "attachments": {},
   "cell_type": "markdown",
   "metadata": {},
   "source": [
    "# 42. Trapping Rain Water"
   ]
  },
  {
   "attachments": {},
   "cell_type": "markdown",
   "metadata": {},
   "source": [
    "https://bb-engineer.com/leetcode_100knock_day19/"
   ]
  },
  {
   "cell_type": "code",
   "execution_count": null,
   "metadata": {},
   "outputs": [],
   "source": [
    "# TLE\n",
    "# class Solution:\n",
    "#     def trap(self, height: list[int]) -> int:\n",
    "#         width = len(height)\n",
    "#         ans = 0\n",
    "#         for i in range(max(height) + 1):\n",
    "#             tmp = 0\n",
    "#             for j in range(len(height) - 2):\n",
    "#                 if height[j + 1] > i:\n",
    "#                     continue\n",
    "#                 if height[j- tmp] > i:\n",
    "#                     tmp += 1\n",
    "#                 if height[j + 2] > i:\n",
    "#                     ans += tmp\n",
    "#                     tmp = 0\n",
    "#         return ans\n",
    "                \n",
    "class Solution:\n",
    "    def trap(self, height: list[int]) -> int:\n",
    "        max_height = max(height)\n",
    "        length = len(height)\n",
    "\n",
    "        Total = length * max_height\n",
    "        land = sum(height)\n",
    "        air = 0        \n",
    "\n",
    "        tmp_max_height = height[0]\n",
    "        i = 0\n",
    "        while height[i] < max_height:\n",
    "            if height[i + 1] > tmp_max_height:\n",
    "                air += (height[i + 1] - tmp_max_height) * (i + 1)\n",
    "                tmp_max_height = height[i + 1]\n",
    "            i += 1\n",
    "        \n",
    "        tmp_max_height = height[length - 1]\n",
    "        i = length - 1\n",
    "        while height[i] < max_height:\n",
    "            if height[i - 1] > tmp_max_height:\n",
    "                air += (height[i - 1] - tmp_max_height) * (length - i)\n",
    "                tmp_max_height = height[i - 1]\n",
    "            i -= 1\n",
    "        \n",
    "        return Total - land - air"
   ]
  }
 ],
 "metadata": {
  "kernelspec": {
   "display_name": "base",
   "language": "python",
   "name": "python3"
  },
  "language_info": {
   "codemirror_mode": {
    "name": "ipython",
    "version": 3
   },
   "file_extension": ".py",
   "mimetype": "text/x-python",
   "name": "python",
   "nbconvert_exporter": "python",
   "pygments_lexer": "ipython3",
   "version": "3.9.7 (default, Sep 16 2021, 16:59:28) [MSC v.1916 64 bit (AMD64)]"
  },
  "orig_nbformat": 4,
  "vscode": {
   "interpreter": {
    "hash": "ae47ba6212e84d8c1bc7a7a3dddd0022dfcbe700da49bf62ecf3a9fe5774f7c4"
   }
  }
 },
 "nbformat": 4,
 "nbformat_minor": 2
}
